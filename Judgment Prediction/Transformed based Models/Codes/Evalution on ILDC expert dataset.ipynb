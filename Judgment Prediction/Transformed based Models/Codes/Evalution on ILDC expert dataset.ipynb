{
 "cells": [
  {
   "cell_type": "code",
   "execution_count": null,
   "metadata": {},
   "outputs": [],
   "source": [
    "import os\n",
    "import random\n",
    "import pandas as pd\n",
    "import numpy as np\n",
    "import csv"
   ]
  },
  {
   "cell_type": "markdown",
   "metadata": {},
   "source": []
  },
  {
   "cell_type": "code",
   "execution_count": null,
   "metadata": {},
   "outputs": [],
   "source": [
    "df_LegalBERT = ## Path file for test set prediction\n",
    "df_InCase = ## Path file for test set prediction\n",
    "df_InLegalBERT = ## Path file for test set prediction\n",
    "df_XLNet = ## Path file for test set prediction\n",
    "df_XLNet_base = ## Path file for test set prediction\n"
   ]
  },
  {
   "cell_type": "code",
   "execution_count": null,
   "metadata": {},
   "outputs": [],
   "source": [
    "df_XLNet_base"
   ]
  },
  {
   "cell_type": "code",
   "execution_count": null,
   "metadata": {},
   "outputs": [],
   "source": [
    "df_XLNet"
   ]
  },
  {
   "cell_type": "code",
   "execution_count": null,
   "metadata": {},
   "outputs": [],
   "source": [
    "df_InLegalBERT"
   ]
  },
  {
   "cell_type": "code",
   "execution_count": null,
   "metadata": {},
   "outputs": [],
   "source": [
    "df_InCase"
   ]
  },
  {
   "cell_type": "code",
   "execution_count": null,
   "metadata": {},
   "outputs": [],
   "source": [
    "df_LegalBERT"
   ]
  },
  {
   "cell_type": "code",
   "execution_count": null,
   "metadata": {},
   "outputs": [],
   "source": [
    "# Using readlines()\n",
    "base_path = ##path\n",
    "# file0 = open(base_path+'54 Expert Annotated cases for Judgement Prediction and Explanation.txt', 'r')\n",
    "file1 = open(base_path+'56 Expert Annotated cases for Judgement Prediction and Explanation.txt', 'r')\n",
    "file2 = open(base_path+'200 Test_cases (J) for Gender and Religion bias.txt', 'r')\n",
    "\n",
    "Lines1 = file1.readlines()\n",
    "# Lines2 = file2.readlines()\n",
    "\n",
    "# Lines3 = Lines1+Lines2"
   ]
  },
  {
   "cell_type": "code",
   "execution_count": null,
   "metadata": {},
   "outputs": [],
   "source": [
    "# len(Lines3), Lines3"
   ]
  },
  {
   "cell_type": "code",
   "execution_count": null,
   "metadata": {},
   "outputs": [],
   "source": [
    "all_expert_doc = []\n",
    "for line in Lines1:\n",
    "    all_expert_doc.append(line.split('\\n')[0])"
   ]
  },
  {
   "cell_type": "code",
   "execution_count": null,
   "metadata": {},
   "outputs": [],
   "source": [
    "len(all_expert_doc)"
   ]
  },
  {
   "cell_type": "code",
   "execution_count": null,
   "metadata": {},
   "outputs": [],
   "source": [
    "df_out_XLNet_base = df_XLNet_base[df_XLNet_base['name'].isin(all_expert_doc)]"
   ]
  },
  {
   "cell_type": "code",
   "execution_count": null,
   "metadata": {},
   "outputs": [],
   "source": [
    "df_out_XLNet = df_XLNet[df_XLNet['name'].isin(all_expert_doc)]"
   ]
  },
  {
   "cell_type": "code",
   "execution_count": null,
   "metadata": {},
   "outputs": [],
   "source": [
    "df_out_InCase = df_InCase[df_InCase['name'].isin(all_expert_doc)]"
   ]
  },
  {
   "cell_type": "code",
   "execution_count": null,
   "metadata": {},
   "outputs": [],
   "source": [
    "df_out_InLegalBERT = df_InLegalBERT[df_InLegalBERT['name'].isin(all_expert_doc)]"
   ]
  },
  {
   "cell_type": "code",
   "execution_count": null,
   "metadata": {},
   "outputs": [],
   "source": [
    "df_out_LegalBERT = df_LegalBERT[df_LegalBERT['name'].isin(all_expert_doc)]\n"
   ]
  },
  {
   "cell_type": "code",
   "execution_count": null,
   "metadata": {},
   "outputs": [],
   "source": [
    "len(df_out_XLNet_base), df_out_XLNet_base"
   ]
  },
  {
   "cell_type": "code",
   "execution_count": null,
   "metadata": {},
   "outputs": [],
   "source": [
    "len(df_out_LegalBERT), df_out_LegalBERT\n"
   ]
  },
  {
   "cell_type": "code",
   "execution_count": null,
   "metadata": {},
   "outputs": [],
   "source": [
    "len(df_out_XLNet), df_out_XLNet\n"
   ]
  },
  {
   "cell_type": "code",
   "execution_count": null,
   "metadata": {},
   "outputs": [],
   "source": [
    "len(df_out_InLegalBERT), df_out_InLegalBERT"
   ]
  },
  {
   "cell_type": "code",
   "execution_count": null,
   "metadata": {},
   "outputs": [],
   "source": [
    "len(df_out_InCase), df_out_InCase"
   ]
  },
  {
   "cell_type": "code",
   "execution_count": null,
   "metadata": {},
   "outputs": [],
   "source": [
    "from sklearn.metrics import multilabel_confusion_matrix, classification_report\n",
    "from sklearn.metrics import precision_recall_fscore_support\n",
    "from sklearn.metrics import accuracy_score"
   ]
  },
  {
   "cell_type": "code",
   "execution_count": null,
   "metadata": {},
   "outputs": [],
   "source": [
    "\n",
    "y_true_XLNet_base = df_out_XLNet_base['label']\n",
    "y_pred_XLNet_base = df_out_XLNet_base['prediction']"
   ]
  },
  {
   "cell_type": "code",
   "execution_count": null,
   "metadata": {},
   "outputs": [],
   "source": [
    "\n",
    "y_true_LegalBERT = df_out_LegalBERT['label']\n",
    "y_pred_LegalBERT = df_out_LegalBERT['prediction']"
   ]
  },
  {
   "cell_type": "code",
   "execution_count": null,
   "metadata": {},
   "outputs": [],
   "source": [
    "y_true_XLNet = df_out_XLNet['label']\n",
    "y_pred_XLNet = df_out_XLNet['prediction']"
   ]
  },
  {
   "cell_type": "code",
   "execution_count": null,
   "metadata": {},
   "outputs": [],
   "source": [
    "\n",
    "y_true_InLegalBERT = df_out_InLegalBERT['label']\n",
    "y_pred_InLegalBERT = df_out_InLegalBERT['prediction']"
   ]
  },
  {
   "cell_type": "code",
   "execution_count": null,
   "metadata": {},
   "outputs": [],
   "source": [
    "y_true = df_out_InCase['label']\n",
    "y_pred = df_out_InCase['prediction']"
   ]
  },
  {
   "cell_type": "code",
   "execution_count": null,
   "metadata": {},
   "outputs": [],
   "source": [
    "\n",
    "precision_recall_fscore_support(y_true_XLNet_base, y_pred_XLNet_base, average='macro')"
   ]
  },
  {
   "cell_type": "code",
   "execution_count": null,
   "metadata": {},
   "outputs": [],
   "source": [
    "accuracy_score(y_true_XLNet_base, y_pred_XLNet_base)\n"
   ]
  },
  {
   "cell_type": "code",
   "execution_count": null,
   "metadata": {},
   "outputs": [],
   "source": [
    "precision_recall_fscore_support(y_true_LegalBERT, y_pred_LegalBERT, average='macro')"
   ]
  },
  {
   "cell_type": "code",
   "execution_count": null,
   "metadata": {},
   "outputs": [],
   "source": [
    "accuracy_score(y_true_LegalBERT, y_pred_LegalBERT)\n"
   ]
  },
  {
   "cell_type": "code",
   "execution_count": null,
   "metadata": {},
   "outputs": [],
   "source": [
    "precision_recall_fscore_support(y_true_XLNet, y_pred_XLNet, average='macro')\n"
   ]
  },
  {
   "cell_type": "code",
   "execution_count": null,
   "metadata": {},
   "outputs": [],
   "source": [
    "accuracy_score(y_true_XLNet, y_pred_XLNet)\n"
   ]
  },
  {
   "cell_type": "code",
   "execution_count": null,
   "metadata": {},
   "outputs": [],
   "source": [
    "precision_recall_fscore_support(y_true_InLegalBERT, y_pred_InLegalBERT, average='macro')"
   ]
  },
  {
   "cell_type": "code",
   "execution_count": null,
   "metadata": {},
   "outputs": [],
   "source": [
    "accuracy_score(y_true_InLegalBERT, y_pred_InLegalBERT)\n"
   ]
  },
  {
   "cell_type": "code",
   "execution_count": null,
   "metadata": {},
   "outputs": [],
   "source": [
    "precision_recall_fscore_support(y_true, y_pred, average='macro')\n"
   ]
  },
  {
   "cell_type": "code",
   "execution_count": null,
   "metadata": {},
   "outputs": [],
   "source": [
    "accuracy_score(y_true, y_pred)"
   ]
  },
  {
   "cell_type": "code",
   "execution_count": null,
   "metadata": {},
   "outputs": [],
   "source": [
    "print(classification_report(y_true, y_pred))"
   ]
  },
  {
   "cell_type": "code",
   "execution_count": null,
   "metadata": {},
   "outputs": [],
   "source": [
    "df_out_LegalBERT.to_csv('/results/LegalBERT_on_last_512/54_expert_result.csv')\n",
    "df_out_LegalBERT.to_csv('/results/LegalBERT_on_last_512/56_expert_result.csv')\n",
    "df_out_LegalBERT.to_csv('/results/LegalBERT_on_last_512/200_expert_result.csv')\n",
    "df_out_LegalBERT.to_csv('/results/LegalBERT_on_last_512/254_expert_result.csv')\n",
    "df_out_LegalBERT.to_csv('/results/LegalBERT_on_last_512/256_expert_result.csv')"
   ]
  },
  {
   "cell_type": "code",
   "execution_count": null,
   "metadata": {},
   "outputs": [],
   "source": [
    "df_out_InCase.to_csv('/results/InLegalCaseLaw_on_last_512/54_expert_result.csv')\n",
    "df_out_InCase.to_csv('/results/InLegalCaseLaw_on_last_512/56_expert_result.csv')\n",
    "df_out_InCase.to_csv('/results/InLegalCaseLaw_on_last_512/200_expert_result.csv')\n",
    "df_out_InCase.to_csv('/results/InLegalCaseLaw_on_last_512/254_expert_result.csv')\n",
    "df_out_InCase.to_csv('/results/InLegalCaseLaw_on_last_512/256_expert_result.csv')"
   ]
  },
  {
   "cell_type": "code",
   "execution_count": null,
   "metadata": {},
   "outputs": [],
   "source": [
    "df_out_InLegalBERT.to_csv('/results/InLegalBERT_on_last_512/54_expert_result.csv')\n",
    "df_out_InLegalBERT.to_csv('/results/InLegalBERT_on_last_512/56_expert_result.csv')\n",
    "df_out_InLegalBERT.to_csv('/results/InLegalBERT_on_last_512/200_expert_result.csv')\n",
    "df_out_InLegalBERT.to_csv('results/InLegalBERT_on_last_512/254_expert_result.csv')\n",
    "df_out_InLegalBERT.to_csv('/results/InLegalBERT_on_last_512/256_expert_result.csv')\n"
   ]
  },
  {
   "cell_type": "code",
   "execution_count": null,
   "metadata": {},
   "outputs": [],
   "source": [
    "df_out_XLNet.to_csv('/results/XLNet_on_last_512/54_expert_result.csv')\n",
    "df_out_XLNet.to_csv('/results/XLNet_on_last_512/56_expert_result.csv')\n",
    "df_out_XLNet.to_csv('/results/XLNet_on_last_512/200_expert_result.csv')\n",
    "df_out_XLNet.to_csv('/results/XLNet_on_last_512/254_expert_result.csv')\n",
    "df_out_XLNet.to_csv('/results/XLNet_on_last_512/256_expert_result.csv')\n"
   ]
  },
  {
   "cell_type": "code",
   "execution_count": null,
   "metadata": {},
   "outputs": [],
   "source": [
    "df_out_XLNet_base.to_csv('/results/XLNet_base_on_last_512/54_expert_result.csv')\n",
    "df_out_XLNet_base.to_csv('/results/XLNet_base_on_last_512/56_expert_result.csv')\n",
    "df_out_XLNet_base.to_csv('/results/XLNet_base_on_last_512/200_expert_result.csv')\n",
    "df_out_XLNet_base.to_csv('/results/XLNet_base_on_last_512/254_expert_result.csv')\n",
    "df_out_XLNet_base.to_csv('/results/XLNet_base_on_last_512/256_expert_result.csv')\n"
   ]
  },
  {
   "cell_type": "code",
   "execution_count": null,
   "metadata": {},
   "outputs": [],
   "source": []
  },
  {
   "cell_type": "code",
   "execution_count": null,
   "metadata": {},
   "outputs": [],
   "source": []
  }
 ],
 "metadata": {
  "kernelspec": {
   "display_name": "Python 3 (ipykernel)",
   "language": "python",
   "name": "python3"
  },
  "language_info": {
   "codemirror_mode": {
    "name": "ipython",
    "version": 3
   },
   "file_extension": ".py",
   "mimetype": "text/x-python",
   "name": "python",
   "nbconvert_exporter": "python",
   "pygments_lexer": "ipython3",
   "version": "3.7.13"
  }
 },
 "nbformat": 4,
 "nbformat_minor": 2
}
